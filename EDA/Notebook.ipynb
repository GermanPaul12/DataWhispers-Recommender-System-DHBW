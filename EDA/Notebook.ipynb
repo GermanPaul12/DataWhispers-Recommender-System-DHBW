{
 "cells": [
  {
   "cell_type": "markdown",
   "metadata": {},
   "source": [
    "<div style=\"display: flex; justify-content: center; align-items: center; min-height: 100px; min-width: 550px; background-color: #334445; border-radius: 20px; box-shadow: 0px 0px 10px rgba(0, 0, 0, 0.5); border: 5px solid transparent; border-image: linear-gradient(45deg, #FF9950, #42E695); border-image-slice: 10; text-align: center;\">\n",
    "    \n",
    "    \n",
    "<h3 style=\"color: #FF9950; font-family: 'Arial', sans-serif; font-size: 2em; margin-top: 20px;\"><span style=\"color: #FFD700;\">A Comprehensive EDA of </span>Netflix's Content</h3>\n",
    "</div>"
   ]
  },
  {
   "cell_type": "markdown",
   "metadata": {},
   "source": [
    "<div style=\"background-color: #334445; border-radius: 20px; box-shadow: 0px 0px 10px rgba(0, 0, 0, 0.5); padding: 20px;\">\n",
    "  <h2 style=\"color: #FF1140; text-align: center; font-family: 'Arial Black', Arial, sans-serif;\">📑 Table of Contents 📑</h2>\n",
    "  <ul style=\"list-style-type: none; padding: 0;\">\n",
    "    <li style=\"margin-bottom: 10px;\">\n",
    "      <a href=\"#1\" style=\"color: #1E88E5; text-decoration: none; font-weight: bold;\">1. Introduction</a>\n",
    "    </li>\n",
    "   <li style=\"margin-bottom: 10px;\">\n",
    "      <a href=\"#3\" style=\"color: #1E88E5; text-decoration: none; font-weight: bold;\">2. About Netflix</a>\n",
    "    </li>\n",
    "    <li style=\"margin-bottom: 10px;\">\n",
    "      <a href=\"#4\" style=\"color: #1E88E5; text-decoration: none; font-weight: bold;\">3. Import Libraries</a>\n",
    "    </li>\n",
    "    <li style=\"margin-bottom: 10px;\">\n",
    "      <a href=\"#5\" style=\"color: #1E88E5; text-decoration: none; font-weight: bold;\">4. Import Dataset</a>\n",
    "    </li>\n",
    "    <li style=\"margin-bottom: 10px;\">\n",
    "      <a href=\"#6\" style=\"color: #1E88E5; text-decoration: none; font-weight: bold;\">5. Basic Exploration</a>\n",
    "      <ul style=\"list-style-type: none; padding: 0; margin-top: 5px;\">\n",
    "        <li style=\"margin-bottom: 5px;\">\n",
    "          <a href=\"#6.1\" style=\"color: #1E88E5; text-decoration: none; font-weight: bold;\">6 Dealing with Missing Values</a>\n",
    "        </li>\n",
    "      </ul>\n",
    "      </li>\n",
    "      <li style=\"margin-bottom: 10px;\">\n",
    "      <a href=\"#7\" style=\"color: #1E88E5; text-decoration: none; font-weight: bold;\">7. Data Visualization</a>\n",
    "    </li>\n",
    "   <li style=\"margin-bottom: 10px;\">\n",
    "      <a href=\"#9\" style=\"color:#1E88E5; text-decoration: none; font-weight: bold;\">8. Questions Answers</a>\n",
    "    </li>\n",
    "    <li style=\"margin-bottom: 10px;\">\n",
    "      <a href=\"#10\" style=\"color: #1E88E5; text-decoration: none; font-weight: bold;\">9. Summary</a>\n",
    "    </li>\n",
    "    <li>\n",
    "      <a href=\"#11\" style=\"color: #1E88E5; text-decoration: none; font-weight: bold;\">10. Conclusion</a>\n",
    "    </li>\n",
    "  </ul>\n",
    "</div>"
   ]
  },
  {
   "cell_type": "markdown",
   "metadata": {},
   "source": [
    "<div style=\"display: flex; justify-content: center; align-items: center; min-height: 50px; min-width: 300px; background-color: #334445; border-radius: 20px; box-shadow: 0px 0px 10px rgba(0, 0, 0, 0.5); border: 2px solid #FF1140;\">\n",
    "  <h1 id=\"#1\" style=\"color: #FF1140; font-family: 'Arial Black', Arial, sans-serif; font-size: 2em; text-transform: uppercase; letter-spacing: 4px; text-shadow: 2px 2px 4px rgba(0, 0, 0, 0.7); text-align: center; margin: 0 auto;\">🌟 Introduction 🌟 </h1>\n",
    "</div>"
   ]
  },
  {
   "cell_type": "markdown",
   "metadata": {},
   "source": [
    "***🎬📊 Lights, camera, data! For the course Data Exploration at the Corperative State University of Mannheim we will explore the realms of the Netflix Dataset. In this section we will fully give our attention to EDA. 🌟📈\n",
    "Team members: German Paul, Michael Greif, Nico Dobberkau 👤***"
   ]
  },
  {
   "cell_type": "markdown",
   "metadata": {},
   "source": [
    "<div style=\"display: flex; justify-content: center; align-items: center; min-height: 50px; min-width: 300px; background-color: #334445; border-radius: 20px; box-shadow: 0px 0px 10px rgba(0, 0, 0, 0.5); border: 2px solid #FF1140;\">\n",
    "  <h1 style=\"color: #FF1140; font-family: 'Arial Black', Arial, sans-serif; font-size: 2em; text-transform: uppercase; letter-spacing: 4px; text-shadow: 2px 2px 4px rgba(0, 0, 0, 0.7); text-align: center; margin: 0 auto;\">🎬 About Netflix 🎬 </h1>\n",
    "</div>"
   ]
  },
  {
   "cell_type": "markdown",
   "metadata": {},
   "source": [
    "***📺 Netflix is one of the most popular media and video streaming platforms. They have over 8000 movies or TV shows available on their platform. As of mid-2021, they have over 200M subscribers globally. 🌍 This tabular dataset consists of listings of all the movies and TV shows available on Netflix, along with details such as cast, directors, ratings, release year, duration, etc. 🎬📊<br>***\n",
    "**Under the following link you can view the raw Data Set from our data directory** [link](../data/netflix_titles.csv)"
   ]
  },
  {
   "cell_type": "markdown",
   "metadata": {},
   "source": [
    "<div style=\"text-align: center;\">\n",
    "    <h1 style=\"color: #FF1140;\">Kernel Version Used:</h1>\n",
    "    <ul style=\"list-style-type: none; padding: 0;\">\n",
    "        <li style=\"color: #333; font-size: 18px; background-color: #FFEB3B; padding: 10px 20px; border-radius: 5px; display: inline-block; margin: 5px;\">Python 3.11.4</li>\n",
    "    </ul>\n",
    "</div>"
   ]
  },
  {
   "cell_type": "markdown",
   "metadata": {},
   "source": [
    "<div style=\"display: flex; justify-content: center; align-items: center; min-height: 50px; min-width: 300px; background-color: #334445; border-radius: 20px; box-shadow: 0px 0px 10px rgba(0, 0, 0, 0.5); border: 2px solid #FF1140;\">\n",
    "  <h1 style=\"color: #FF1140; font-family: 'Arial Black', Arial, sans-serif; font-size: 2em; text-transform: uppercase; letter-spacing: 4px; text-shadow: 2px 2px 4px rgba(0, 0, 0, 0.7); text-align: center; margin: 0 auto;\">📚 Import Libraries 📚 </h1>\n",
    "</div>"
   ]
  },
  {
   "cell_type": "code",
   "execution_count": 1,
   "metadata": {},
   "outputs": [],
   "source": [
    "import numpy as np # linear algebra\n",
    "import pandas as pd # data processing, CSV file I/O (e.g. pd.read_csv)\n",
    "import matplotlib.pyplot as plt # for data visualization\n",
    "import seaborn as sns # for statistical data visualization builds on top of matplotlib\n",
    "import plotly.express as px # for data visualization\n",
    "from sklearn.preprocessing import StandardScaler # for standardizing the data\n",
    "from sklearn.cluster import KMeans, AffinityPropagation # for clustering\n",
    "%matplotlib inline # for inline plotting\n",
    "import warnings # for ignoring warnings\n",
    "warnings.filterwarnings(\"ignore\") # for ignoring warnings\n",
    "import plotly as py # for plotting\n",
    "import plotly.graph_objs as go # for plotting\n",
    "import os # for handling directories\n",
    "py.offline.init_notebook_mode(connected = True) # for offline plotting\n",
    "import datetime as dt # for handling date and time\n",
    "import missingno as msno # for missing values\n",
    "plt.rcParams['figure.dpi'] = 140 # for better quality plots"
   ]
  },
  {
   "cell_type": "markdown",
   "metadata": {},
   "source": [
    "<div style=\"display: flex; justify-content: center; align-items: center; min-height: 50px; min-width: 300px; background-color: #334445; border-radius: 20px; box-shadow: 0px 0px 10px rgba(0, 0, 0, 0.5); border: 2px solid #FF1140;\">\n",
    "  <h1 style=\"color: #FF1140; font-family: 'Arial Black', Arial, sans-serif; font-size: 2em; text-transform: uppercase; letter-spacing: 4px; text-shadow: 2px 2px 4px rgba(0, 0, 0, 0.7); text-align: center; margin: 0 auto;\">📂 Import Dataset 📂 </h1>\n",
    "</div>"
   ]
  },
  {
   "cell_type": "code",
   "execution_count": null,
   "metadata": {},
   "outputs": [],
   "source": [
    "df = pd.read_csv(\"../data/netflix_titles.csv\")"
   ]
  },
  {
   "cell_type": "markdown",
   "metadata": {},
   "source": [
    "<p style=\"color: #FF6347; font-family: 'Helvetica Neue', Helvetica, Arial, sans-serif; font-size: 24px; font-weight: bold; text-transform: uppercase; letter-spacing: 1px; text-shadow: 2px 2px 4px rgba(0, 0, 0, 0.3);\">Show the head of the dataset</p>"
   ]
  },
  {
   "cell_type": "code",
   "execution_count": null,
   "metadata": {},
   "outputs": [],
   "source": [
    "df.head()"
   ]
  },
  {
   "cell_type": "markdown",
   "metadata": {},
   "source": [
    "<div style=\"display: flex; justify-content: center; align-items: center; min-height: 50px; min-width: 300px; background-color: #334445; border-radius: 20px; box-shadow: 0px 0px 10px rgba(0, 0, 0, 0.5); border: 2px solid #FF1140;\">\n",
    "  <h1 style=\"color: #FF1140; font-family: 'Arial Black', Arial, sans-serif; font-size: 2em; text-transform: uppercase; letter-spacing: 4px; text-shadow: 2px 2px 4px rgba(0, 0, 0, 0.7); text-align: center; margin: 0 auto;\">Basic Exploration 🔍 </h1>\n",
    "</div>"
   ]
  },
  {
   "cell_type": "markdown",
   "metadata": {},
   "source": [
    "<p style=\"color: #FF6347; font-family: 'Helvetica Neue', Helvetica, Arial, sans-serif; font-size: 24px; font-weight: bold; text-transform: uppercase; letter-spacing: 1px; text-shadow: 2px 2px 4px rgba(0, 0, 0, 0.3);\">Let us take a brief look at the dataset's shape</p>"
   ]
  },
  {
   "cell_type": "code",
   "execution_count": null,
   "metadata": {},
   "outputs": [],
   "source": [
    "print(\"Number of rows in the dataset:\", df.shape[0])\n",
    "print(\"Number of columns in the dataset:\", df.shape[1])"
   ]
  },
  {
   "cell_type": "markdown",
   "metadata": {},
   "source": [
    "<p style=\"color: #FF6347; font-family: 'Helvetica Neue', Helvetica, Arial, sans-serif; font-size: 24px; font-weight: bold; text-transform: uppercase; letter-spacing: 1px; text-shadow: 2px 2px 4px rgba(0, 0, 0, 0.3);\">View the Column Names</p>"
   ]
  },
  {
   "cell_type": "code",
   "execution_count": null,
   "metadata": {},
   "outputs": [],
   "source": [
    "df.columns"
   ]
  },
  {
   "cell_type": "markdown",
   "metadata": {},
   "source": [
    "<p style=\"color: #FF6347; font-family: 'Helvetica Neue', Helvetica, Arial, sans-serif; font-size: 24px; font-weight: bold; text-transform: uppercase; letter-spacing: 1px; text-shadow: 2px 2px 4px rgba(0, 0, 0, 0.3);\">Exploring the Netflix Dataset: Uncovering Insights with the info() Function</p>"
   ]
  },
  {
   "cell_type": "code",
   "execution_count": null,
   "metadata": {},
   "outputs": [],
   "source": [
    "df.info()"
   ]
  },
  {
   "cell_type": "markdown",
   "metadata": {},
   "source": [
    "<div class=\"container\" style=\"font-family: Arial, sans-serif; background-color: #f0f0f0; padding: 20px; border-radius: 10px; box-shadow: 0px 0px 10px rgba(0, 0, 0, 0.1);\">\n",
    "    <h1 style=\"color: #FF1140; font-size: 2em; text-transform: uppercase; letter-spacing: 2px; text-shadow: 2px 2px 4px rgba(0, 0, 0, 0.2);\">Observations</h1>\n",
    "    <p style=\"font-size: 1.1em; color: #FF9900;\">In our analysis of the Netflix dataset, we uncovered 8810 entries spread across 12 columns. Notably, certain columns like 'director', 'cast', 'country', 'rating', and 'duration' exhibit missing values, prompting further investigation. </p>"
   ]
  },
  {
   "cell_type": "markdown",
   "metadata": {},
   "source": [
    "<p style=\"color: #FF6347; font-family: 'Helvetica Neue', Helvetica, Arial, sans-serif; font-size: 24px; font-weight: bold; text-transform: uppercase; letter-spacing: 1px; text-shadow: 2px 2px 4px rgba(0, 0, 0, 0.3);\">An Overview of Statistics</p>"
   ]
  },
  {
   "cell_type": "code",
   "execution_count": null,
   "metadata": {},
   "outputs": [],
   "source": [
    "df.describe()"
   ]
  },
  {
   "cell_type": "markdown",
   "metadata": {},
   "source": [
    "<div style=\"display: flex; justify-content: center; align-items: center; min-height: 50px; min-width: 300px; background-color: #334445; border-radius: 20px; box-shadow: 0px 0px 10px rgba(0, 0, 0, 0.5); border: 2px solid #FF1140;\">\n",
    "  <h1 style=\"color: #FF1140; font-family: 'Arial Black', Arial, sans-serif; font-size: 2em; text-transform: uppercase; letter-spacing: 4px; text-shadow: 2px 2px 4px rgba(0, 0, 0, 0.7); text-align: center; margin: 0 auto;\">🔍 Dealing with Missing Values 🔍 </h1>\n",
    "</div>"
   ]
  },
  {
   "cell_type": "markdown",
   "metadata": {},
   "source": [
    "<p style=\"color: #FF6347; font-family: 'Helvetica Neue', Helvetica, Arial, sans-serif; font-size: 24px; font-weight: bold; text-transform: uppercase; letter-spacing: 1px; text-shadow: 2px 2px 4px rgba(0, 0, 0, 0.3);\">Finding the Missing Values</p>"
   ]
  },
  {
   "cell_type": "code",
   "execution_count": null,
   "metadata": {},
   "outputs": [],
   "source": [
    "df.isnull().sum()"
   ]
  },
  {
   "cell_type": "markdown",
   "metadata": {},
   "source": [
    "<p style=\"color: #FF6347; font-family: 'Helvetica Neue', Helvetica, Arial, sans-serif; font-size: 24px; font-weight: bold; text-transform: uppercase; letter-spacing: 1px; text-shadow: 2px 2px 4px rgba(0, 0, 0, 0.3);\">Checking the percentage of missing value</p>"
   ]
  },
  {
   "cell_type": "code",
   "execution_count": null,
   "metadata": {},
   "outputs": [],
   "source": [
    "df.isnull().sum()/len(df)*100"
   ]
  },
  {
   "cell_type": "markdown",
   "metadata": {},
   "source": [
    "<div style=\"display: flex; justify-content: center; align-items: center; min-height: 50px; min-width: 300px; background-color: #334445; border-radius: 20px; box-shadow: 0px 0px 10px rgba(0, 0, 0, 0.5); border: 2px solid #FF1140;\">\n",
    "  <h1 style=\"color: #FF1140; font-family: 'Arial Black', Arial, sans-serif; font-size: 2em; text-transform: uppercase; letter-spacing: 4px; text-shadow: 2px 2px 4px rgba(0, 0, 0, 0.7); text-align: center; margin: 0 auto;\">📊 Data Visualization 📊  </h1>\n",
    "</div>"
   ]
  },
  {
   "cell_type": "markdown",
   "metadata": {},
   "source": [
    "<p style=\"color: #FF6347; font-family: 'Helvetica Neue', Helvetica, Arial, sans-serif; font-size: 24px; font-weight: bold; text-transform: uppercase; letter-spacing: 1px; text-shadow: 2px 2px 4px rgba(0, 0, 0, 0.3);\">Visualizing Missing Values in the Dataset</p>"
   ]
  },
  {
   "cell_type": "code",
   "execution_count": null,
   "metadata": {},
   "outputs": [],
   "source": [
    "# Create a plot show the missing values\n",
    "sns.heatmap(df.isnull())\n",
    "plt.show()"
   ]
  },
  {
   "cell_type": "markdown",
   "metadata": {},
   "source": [
    "<div class=\"container\" style=\"font-family: Arial, sans-serif; background-color: #f0f0f0; padding: 20px; border-radius: 10px; box-shadow: 0px 0px 10px rgba(0, 0, 0, 0.1);\">\n",
    "    <h1 style=\"color: #FF1140; font-size: 2em; text-transform: uppercase; letter-spacing: 2px; text-shadow: 2px 2px 4px rgba(0, 0, 0, 0.2);\">Observations</h1>\n",
    "    <p style=\"font-size: 1.1em; color: #FF9900;\">To ensure the accuracy of our analysis, we need to address missing data. There are several approaches we can take:</p>\n",
    "    <ul style=\"list-style-type: none; padding-left: 0; margin-top: 10px;\">\n",
    "        <li style=\"margin-bottom: 10px; background-color: #000; padding: 10px; border-radius: 5px; box-shadow: 0px 2px 4px rgba(0, 0, 0, 0.1);\">\n",
    "            <strong>1. Remove Rows:</strong><br>\n",
    "            The missing values in the columns date_added, rating, and duration are 0.113546%, 0.045418%, and 0.034064%, respectively. \n",
    "            <br>Due to the low percentage, rows with missing data in these columns were dropped.\n",
    "        </li>\n",
    "        <li style=\"margin-bottom: 10px; background-color: #000; padding: 10px; border-radius: 5px; box-shadow: 0px 2px 4px rgba(0, 0, 0, 0.1);\">\n",
    "            <strong>2. Mode Imputation:</strong><br>\n",
    "            Considering the high percentage of missing values in the director, cast, and country columns, we decided to impute these missing values using the mode method.\n",
    "        </li>\n",
    "    </ul>\n",
    "</div>"
   ]
  },
  {
   "cell_type": "code",
   "execution_count": null,
   "metadata": {},
   "outputs": [],
   "source": [
    "df.dropna(subset= [\"date_added\", \"rating\", \"duration\"], inplace=True)"
   ]
  },
  {
   "cell_type": "code",
   "execution_count": null,
   "metadata": {},
   "outputs": [],
   "source": [
    "df[\"director\"].fillna(df[\"director\"].mode()[0], inplace=True)\n",
    "df[\"cast\"].fillna(df[\"cast\"].mode()[0], inplace=True)\n",
    "df[\"country\"].fillna(df[\"country\"].mode()[0], inplace=True)"
   ]
  },
  {
   "cell_type": "code",
   "execution_count": null,
   "metadata": {},
   "outputs": [],
   "source": [
    "df.isnull().sum()"
   ]
  },
  {
   "cell_type": "markdown",
   "metadata": {},
   "source": [
    "<p style=\"color: #FF6347; font-family: 'Helvetica Neue', Helvetica, Arial, sans-serif; font-size: 24px; font-weight: bold; text-transform: uppercase; letter-spacing: 1px; text-shadow: 2px 2px 4px rgba(0, 0, 0, 0.3);\">Checking for Duplicates</p>"
   ]
  },
  {
   "cell_type": "code",
   "execution_count": null,
   "metadata": {},
   "outputs": [],
   "source": [
    "df.duplicated().sum()"
   ]
  },
  {
   "cell_type": "code",
   "execution_count": null,
   "metadata": {},
   "outputs": [],
   "source": [
    "df[\"show_id\"].unique()"
   ]
  },
  {
   "cell_type": "code",
   "execution_count": null,
   "metadata": {},
   "outputs": [],
   "source": [
    "df[\"show_id\"].duplicated().sum()"
   ]
  },
  {
   "cell_type": "markdown",
   "metadata": {},
   "source": [
    "<div class=\"container\" style=\"font-family: Arial, sans-serif; background-color: #f0f0f0; padding: 20px; border-radius: 10px; box-shadow: 0px 0px 10px rgba(0, 0, 0, 0.1);\">\n",
    "    <p style=\"font-size: 1.1em; color: #FF9900; line-height: 1.6;\">🔍 To verify that there are no duplicates in the dataset, we checked the Show ID column. This column should contain unique values, ensuring there are no repeated entries. By using this method, we confirmed that the dataset has zero duplicates in the Show ID column.</p>\n",
    "</div>\n"
   ]
  },
  {
   "cell_type": "markdown",
   "metadata": {},
   "source": [
    "<div style=\"display: flex; justify-content: center; align-items: center; min-height: 50px; min-width: 300px; background-color: #334445; border-radius: 20px; box-shadow: 0px 0px 10px rgba(0, 0, 0, 0.5); border: 2px solid #FF1140;\">\n",
    "  <h1 style=\"color: #FF1140; font-family: 'Arial Black', Arial, sans-serif; font-size: 2em; text-transform: uppercase; letter-spacing: 4px; text-shadow: 2px 2px 4px rgba(0, 0, 0, 0.7); text-align: center; margin: 0 auto;\">❓ Questions Answered ❓ </h1>\n",
    "</div>"
   ]
  },
  {
   "cell_type": "markdown",
   "metadata": {},
   "source": [
    "<div class=\"container\" style=\"font-family: Arial, sans-serif; background-color: #f0f0f0; padding: 10px; border-radius: 10px; box-shadow: 0px 0px 10px rgba(0, 0, 0, 0.1);\">\n",
    "    <ul style=\"list-style-type: none; padding-left: 0;\">\n",
    "        <li style=\"font-size: 2em; color: black; line-height: 1.6;\">Question 1. What is the distribution of content types on Netflix?</li>\n",
    "    </ul>\n",
    "</div>\n"
   ]
  },
  {
   "cell_type": "code",
   "execution_count": null,
   "metadata": {},
   "outputs": [],
   "source": [
    "df[\"type\"].value_counts()"
   ]
  },
  {
   "cell_type": "code",
   "execution_count": null,
   "metadata": {},
   "outputs": [],
   "source": [
    "fig = px.bar(x=df[\"type\"].value_counts().index, \n",
    "             y=df[\"type\"].value_counts().values, \n",
    "             color=df[\"type\"].value_counts().index)\n",
    "\n",
    "# Update layout with customized title, axis labels, and background colors\n",
    "fig.update_layout(\n",
    "    title={\n",
    "        'text': \"Distribution of Content Type\",\n",
    "        'font': {'color': 'white'}\n",
    "    },\n",
    "    xaxis_title={\n",
    "        'text': \"Content Type\",\n",
    "        'font': {'color': 'white'}\n",
    "    },\n",
    "    yaxis_title={\n",
    "        'text': \"Count\",\n",
    "        'font': {'color': 'white'}\n",
    "    },\n",
    "    plot_bgcolor='rgba(0,0,0,0)', \n",
    "    paper_bgcolor='black',         \n",
    "    font=dict(color='white')       \n",
    ")\n",
    "\n",
    "fig.show()"
   ]
  },
  {
   "cell_type": "code",
   "execution_count": null,
   "metadata": {},
   "outputs": [],
   "source": [
    "import plotly.express as px\n",
    "\n",
    "fig = px.pie(df, values=df[\"type\"].value_counts().values, names=df[\"type\"].value_counts().index)\n",
    "\n",
    "fig.update_layout(title=\"Distribution of Content Type\", plot_bgcolor='rgba(0,0,0,0)', paper_bgcolor='black', font=dict(color='white'))\n",
    "\n",
    "fig.show()"
   ]
  },
  {
   "cell_type": "markdown",
   "metadata": {},
   "source": [
    "<div class=\"container\" style=\"font-family: Arial, sans-serif; background-color: #f0f0f0; padding: 20px; border-radius: 10px; box-shadow: 0px 0px 10px rgba(0, 0, 0, 0.1);\">\n",
    "    <ul style=\"list-style-type: none; padding-left: 0;\">\n",
    "        <li style=\"font-size: 1.1em; color: black; line-height: 1.6;\">\n",
    "            <strong>Answer:</strong><br>\n",
    "            The dataset contains two main content types: Movies and TV Shows. The distribution is as follows:<br>\n",
    "            1. Movies: 69.7%<br>\n",
    "            2. TV Show: 30.3%\n",
    "        </li>\n",
    "    </ul>\n",
    "</div>"
   ]
  },
  {
   "cell_type": "markdown",
   "metadata": {},
   "source": [
    "<div class=\"container\" style=\"font-family: Arial, sans-serif; background-color: #f0f0f0; padding: 10px; border-radius: 10px; box-shadow: 0px 0px 10px rgba(0, 0, 0, 0.1);\">\n",
    "    <ul style=\"list-style-type: none; padding-left: 0;\">\n",
    "        <li style=\"font-size: 2em; color: black; line-height: 1.6;\">Question 2. What are the highest release years for TV shows and movies in the Netflix dataset?</li>\n",
    "    </ul>\n",
    "</div>"
   ]
  },
  {
   "cell_type": "code",
   "execution_count": null,
   "metadata": {},
   "outputs": [],
   "source": [
    "df[\"release_year\"].unique()"
   ]
  },
  {
   "cell_type": "code",
   "execution_count": null,
   "metadata": {},
   "outputs": [],
   "source": [
    "df[\"release_year\"].value_counts()"
   ]
  },
  {
   "cell_type": "code",
   "execution_count": null,
   "metadata": {},
   "outputs": [],
   "source": [
    "fig = px.bar(x=df[\"release_year\"].value_counts().index, \n",
    "             y=df[\"release_year\"].value_counts().values, \n",
    "             color=df[\"release_year\"].value_counts().index)\n",
    "\n",
    "# Update layout with customized title, axis labels, and background colors\n",
    "\n",
    "fig.update_layout(\n",
    "    title={\n",
    "        'text': \"Highest Release Years for TV Shows and Movies\",\n",
    "        'font': {'color': 'white'}\n",
    "    },\n",
    "    xaxis_title={\n",
    "        'text': \"Release Year\",\n",
    "        'font': {'color': 'white'}\n",
    "    },\n",
    "    yaxis_title={\n",
    "        'text': \"Count\",\n",
    "        'font': {'color': 'white'}\n",
    "    },\n",
    "    plot_bgcolor='rgba(0,0,0,0)', \n",
    "    paper_bgcolor='black',         \n",
    "    font=dict(color='white')       \n",
    ")"
   ]
  },
  {
   "cell_type": "markdown",
   "metadata": {},
   "source": [
    "<div class=\"container\" style=\"font-family: Arial, sans-serif; background-color: #f0f0f0; padding: 20px; border-radius: 10px; box-shadow: 0px 0px 10px rgba(0, 0, 0, 0.1);\">\n",
    "    <ul style=\"list-style-type: none; padding-left: 0;\">\n",
    "        <li style=\"font-size: 1.1em; color: black; line-height: 1.6;\">\n",
    "            <strong>Answer:</strong><br>\n",
    "            the highest release year for both TV shows and movies is 2018. No data exceeds that year.\n",
    "        </li>\n",
    "    </ul>\n",
    "</div>"
   ]
  },
  {
   "cell_type": "code",
   "execution_count": null,
   "metadata": {},
   "outputs": [],
   "source": [
    "grouped_data = df.groupby(['release_year', 'type']).size().reset_index(name='count')\n",
    "\n",
    "fig = px.bar(grouped_data, x='release_year', y='count', color='type',\n",
    "             title=\"Highest Release Years for TV Shows and Movies\",\n",
    "             labels={'release_year': \"Release Year\", 'count': \"Count\", 'type': \"Type\"},\n",
    "             color_discrete_map={'Movie': 'blue', 'TV Show': 'green'})\n",
    "fig.update_layout(\n",
    "    plot_bgcolor='rgba(0,0,0,0)', \n",
    "    paper_bgcolor='black',         \n",
    "    font=dict(color='white')       \n",
    ")\n",
    "highest_release_year = grouped_data[grouped_data[\"count\"] == grouped_data[\"count\"].max()][\"release_year\"].iloc[0]\n",
    "highest_type = grouped_data[grouped_data[\"count\"] == grouped_data[\"count\"].max()][\"type\"].iloc[0]\n",
    "print(f\"The highest type on the release year {highest_release_year} is {highest_type}.\")\n",
    "fig.show()"
   ]
  },
  {
   "cell_type": "markdown",
   "metadata": {},
   "source": [
    "<div class=\"container\" style=\"font-family: Arial, sans-serif; background-color: #f0f0f0; padding: 20px; border-radius: 10px; box-shadow: 0px 0px 10px rgba(0, 0, 0, 0.1);\">\n",
    "    <h1 style=\"color: #FF1140; font-size: 2em; text-transform: uppercase; letter-spacing: 2px; text-shadow: 2px 2px 4px rgba(0, 0, 0, 0.2);\">Observations</h1>\n",
    "    <p style=\"font-size: 1.1em; color: #FF9900;\">From the visualization of movie and TV show releases by year, <br>it's evident that the count of movie releases is consistently higher than TV shows across multiple years. \n",
    "    <br>This suggests a stronger focus on producing movies within the Netflix dataset.</p>"
   ]
  },
  {
   "cell_type": "markdown",
   "metadata": {},
   "source": [
    "<div class=\"container\" style=\"font-family: Arial, sans-serif; background-color: #f0f0f0; padding: 10px; border-radius: 10px; box-shadow: 0px 0px 10px rgba(0, 0, 0, 0.1);\">\n",
    "    <ul style=\"list-style-type: none; padding-left: 0;\">\n",
    "        <li style=\"font-size: 2em; color: black; line-height: 1.6;\">Question 3.  Which country produces the most content on Netflix?</li>\n",
    "    </ul>\n",
    "</div>"
   ]
  },
  {
   "cell_type": "code",
   "execution_count": null,
   "metadata": {},
   "outputs": [],
   "source": [
    "grouped_data = df.groupby(['type', 'country']).size().reset_index(name='count')\n",
    "grouped_data"
   ]
  },
  {
   "cell_type": "code",
   "execution_count": null,
   "metadata": {},
   "outputs": [],
   "source": [
    "grouped_data = df.groupby(['type', 'country']).size().reset_index(name='count')\n",
    "grouped_data = grouped_data.sort_values(by=\"count\", ascending=False)\n",
    "grouped_data = grouped_data.head(10)\n",
    "fig = px.bar(grouped_data, x='country', y='count', color='country',\n",
    "             title=\"Highest Countries for Movies&TV Show\",\n",
    "             labels={'country': \"Country\", 'count': \"Count\"},\n",
    "             color_discrete_map={'United States': 'blue', 'India': 'green'})\n",
    "fig.update_layout(\n",
    "     plot_bgcolor='rgba(0,0,0,0)', \n",
    "     paper_bgcolor='black',         \n",
    "     font=dict(color='white')       \n",
    " )\n",
    "fig.show()"
   ]
  },
  {
   "cell_type": "markdown",
   "metadata": {},
   "source": [
    "<div class=\"container\" style=\"font-family: Arial, sans-serif; background-color: #f0f0f0; padding: 20px; border-radius: 10px; box-shadow: 0px 0px 10px rgba(0, 0, 0, 0.1);\">\n",
    "    <ul style=\"list-style-type: none; padding-left: 0;\">\n",
    "        <li style=\"font-size: 1.1em; color: black; line-height: 1.6;\">\n",
    "            <strong>Answer:</strong><br>\n",
    "            The United States is the leading content producer on Netflix, followed by India, the United Kingdom, and Japan.\n",
    "        </li>\n",
    "    </ul>\n",
    "</div>"
   ]
  },
  {
   "cell_type": "markdown",
   "metadata": {},
   "source": [
    "<div class=\"container\" style=\"font-family: Arial, sans-serif; background-color: #f0f0f0; padding: 10px; border-radius: 10px; box-shadow: 0px 0px 10px rgba(0, 0, 0, 0.1);\">\n",
    "    <ul style=\"list-style-type: none; padding-left: 0;\">\n",
    "        <li style=\"font-size: 2em; color: black; line-height: 1.6;\">Question 4.  What is the average duration of Movies and TV Shows?</li>\n",
    "    </ul>\n",
    "</div>"
   ]
  },
  {
   "cell_type": "code",
   "execution_count": null,
   "metadata": {},
   "outputs": [],
   "source": [
    "grouped_data = df.groupby(['type', 'duration']).size().reset_index(name='count')\n",
    "\n",
    "grouped_data = grouped_data.sort_values(by=\"count\", ascending=False)\n",
    "grouped_data"
   ]
  },
  {
   "cell_type": "code",
   "execution_count": null,
   "metadata": {},
   "outputs": [],
   "source": [
    "fig = px.bar(grouped_data, x='duration', y='count', color='type',\n",
    "             title=\"Duration of Movies&TV Show\",\n",
    "             labels={'duration': \"Duration\", 'count': \"Count\"},\n",
    "             color_discrete_map={'Short': 'blue', 'Long': 'green'})\n",
    "fig.update_layout(\n",
    "     plot_bgcolor='rgba(0,0,0,0)', \n",
    "     paper_bgcolor='black',         \n",
    "     font=dict(color='white')       \n",
    " )"
   ]
  },
  {
   "cell_type": "markdown",
   "metadata": {},
   "source": [
    "<div class=\"container\" style=\"font-family: Arial, sans-serif; background-color: #f0f0f0; padding: 20px; border-radius: 10px; box-shadow: 0px 0px 10px rgba(0, 0, 0, 0.1);\">\n",
    "    <ul style=\"list-style-type: none; padding-left: 0;\">\n",
    "        <li style=\"font-size: 1.1em; color: black; line-height: 1.6;\">\n",
    "            <strong>Answer:</strong><br>\n",
    "            1. Movies: The average duration is approximately 90 minutes.<br>\n",
    "2. TV Shows: The average number of seasons per show is 1.\n",
    "        </li>\n",
    "    </ul>\n",
    "</div>"
   ]
  },
  {
   "cell_type": "markdown",
   "metadata": {},
   "source": [
    "<div class=\"container\" style=\"font-family: Arial, sans-serif; background-color: #f0f0f0; padding: 10px; border-radius: 10px; box-shadow: 0px 0px 10px rgba(0, 0, 0, 0.1);\">\n",
    "    <ul style=\"list-style-type: none; padding-left: 0;\">\n",
    "        <li style=\"font-size: 2em; color: black; line-height: 1.6;\">Question 5.  Is it possible to choose the top director? Who are the top 10 directors in Netflix's dataset?</li>\n",
    "    </ul>\n",
    "</div>"
   ]
  },
  {
   "cell_type": "code",
   "execution_count": null,
   "metadata": {},
   "outputs": [],
   "source": [
    "grouped_data = df.groupby(['director']).size().reset_index(name='count')\n",
    "grouped_data.head(10)"
   ]
  },
  {
   "cell_type": "code",
   "execution_count": null,
   "metadata": {},
   "outputs": [],
   "source": [
    "fig = px.bar(grouped_data.head(10), x='director', y='count',\n",
    "                title=\"Top 10 directors\",\n",
    "                labels={'director': \"Director\", 'count': \"Count\"},\n",
    "                color_discrete_map={'United States': 'blue', 'India': 'green'})\n",
    "fig.update_layout(\n",
    "        plot_bgcolor='rgba(0,0,0,0)', \n",
    "        paper_bgcolor='black',         \n",
    "        font=dict(color='white')       \n",
    "    )\n",
    "fig.show()"
   ]
  },
  {
   "cell_type": "markdown",
   "metadata": {},
   "source": [
    "<div class=\"container\" style=\"font-family: Arial, sans-serif; background-color: #f0f0f0; padding: 20px; border-radius: 10px; box-shadow: 0px 0px 10px rgba(0, 0, 0, 0.1);\">\n",
    "    <ul style=\"list-style-type: none; padding-left: 0;\">\n",
    "        <li style=\"font-size: 1.1em; color: black; line-height: 1.6;\">\n",
    "            <strong>Answer:</strong><br>\n",
    "            The top 10 directors in the Netflix dataset include A. L. Vijay, A.R. Murugadoss, and Aamir Khan among others, showcasing a diverse range.\n",
    "        </li>\n",
    "    </ul>\n",
    "</div>"
   ]
  },
  {
   "cell_type": "markdown",
   "metadata": {},
   "source": [
    "<div style=\"display: flex; justify-content: center; align-items: center; min-height: 50px; min-width: 300px; background-color: #334445; border-radius: 20px; box-shadow: 0px 0px 10px rgba(0, 0, 0, 0.5); border: 2px solid #FF1140;\">\n",
    "  <h1 style=\"color: #FF1140; font-family: 'Arial Black', Arial, sans-serif; font-size: 2em; text-transform: uppercase; letter-spacing: 4px; text-shadow: 2px 2px 4px rgba(0, 0, 0, 0.7); text-align: center; margin: 0 auto;\">📝 Summary 📝  </h1>\n",
    "</div>"
   ]
  },
  {
   "cell_type": "markdown",
   "metadata": {},
   "source": [
    "<div class=\"container\" style=\"font-family: Arial, sans-serif; background-color: #f0f0f0; padding: 20px; border-radius: 10px; box-shadow: 0px 0px 10px rgba(0, 0, 0, 0.1);\">\n",
    "    <p style=\"font-size: 1.1em; color: black; line-height: 1.6;\">The Netflix dataset has 8807 entries: 69.7% movies and 30.3% TV shows. The peak release year is 2018. Top countries are the USA, India, and the UK. Popular ratings are TV-MA and TV-14, with common genres being dramas, comedies, and documentaries, showcasing Netflix's diverse and global content.</p>\n",
    "</div>"
   ]
  },
  {
   "cell_type": "markdown",
   "metadata": {},
   "source": [
    "<div style=\"display: flex; justify-content: center; align-items: center; min-height: 50px; min-width: 300px; background-color: #334445; border-radius: 20px; box-shadow: 0px 0px 10px rgba(0, 0, 0, 0.5); border: 2px solid #FF1140;\">\n",
    "  <h1 style=\"color: #FF1140; font-family: 'Arial Black', Arial, sans-serif; font-size: 2em; text-transform: uppercase; letter-spacing: 4px; text-shadow: 2px 2px 4px rgba(0, 0, 0, 0.7); text-align: center; margin: 0 auto;\">🎉 Conclusion 🎉   </h1>\n",
    "</div>"
   ]
  },
  {
   "cell_type": "markdown",
   "metadata": {},
   "source": [
    "<div class=\"container\" style=\"font-family: Arial, sans-serif; background-color: #f0f0f0; padding: 20px; border-radius: 10px; box-shadow: 0px 0px 10px rgba(0, 0, 0, 0.1);\">\n",
    "    <p style=\"font-size: 1.1em; color: black; line-height: 1.6;\">The Netflix dataset reveals a dynamic and expansive content library, with a strong emphasis on movies, particularly in recent years. The diversity in genres, ratings, and international representation highlights Netflix's strategy to cater to a broad, global audience. This rich variety ensures that Netflix remains a leading platform for entertainment, appealing to diverse tastes and preferences worldwide.</p>\n",
    "</div>"
   ]
  },
  {
   "cell_type": "markdown",
   "metadata": {},
   "source": [
    "<div style=\"display: flex; justify-content: center; align-items: center; min-height: 50px; min-width: 300px; background-color: #334445; border-radius: 20px; box-shadow: 0px 0px 10px rgba(0, 0, 0, 0.5); border: 2px solid #FF1140;\">\n",
    "  <h1 style=\"color: #FF1140; font-family: 'Arial Black', Arial, sans-serif; font-size: 2em; text-transform: uppercase; letter-spacing: 4px; text-shadow: 2px 2px 4px rgba(0, 0, 0, 0.7); text-align: center; margin: 0 auto;\">🎉 The END 🎉   </h1>\n",
    "</div"
   ]
  }
 ],
 "metadata": {
  "kernelspec": {
   "display_name": "venv",
   "language": "python",
   "name": "python3"
  },
  "language_info": {
   "codemirror_mode": {
    "name": "ipython",
    "version": 3
   },
   "file_extension": ".py",
   "mimetype": "text/x-python",
   "name": "python",
   "nbconvert_exporter": "python",
   "pygments_lexer": "ipython3",
   "version": "3.11.4"
  }
 },
 "nbformat": 4,
 "nbformat_minor": 2
}
